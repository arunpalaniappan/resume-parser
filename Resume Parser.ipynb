{
 "cells": [
  {
   "cell_type": "code",
   "execution_count": 1,
   "metadata": {},
   "outputs": [],
   "source": [
    "import regex as re"
   ]
  },
  {
   "cell_type": "markdown",
   "metadata": {},
   "source": [
    "### Extracting Text from PDF"
   ]
  },
  {
   "cell_type": "code",
   "execution_count": 2,
   "metadata": {},
   "outputs": [],
   "source": [
    "import pdfminer\n",
    "from io import StringIO\n",
    "from pdfminer.pdfinterp import PDFResourceManager, PDFPageInterpreter\n",
    "from pdfminer.converter import TextConverter\n",
    "from pdfminer.layout import LAParams\n",
    "from pdfminer.pdfpage import PDFPage\n",
    "\n",
    "import docx2txt"
   ]
  },
  {
   "cell_type": "code",
   "execution_count": 3,
   "metadata": {},
   "outputs": [],
   "source": [
    "import os"
   ]
  },
  {
   "cell_type": "code",
   "execution_count": 4,
   "metadata": {},
   "outputs": [
    {
     "data": {
      "text/plain": [
       "['resumes\\\\resume1.docx',\n",
       " 'resumes\\\\resume1.pdf',\n",
       " 'resumes\\\\resume2.docx',\n",
       " 'resumes\\\\resume2.pdf',\n",
       " 'resumes\\\\resume3.docx',\n",
       " 'resumes\\\\resume3.pdf',\n",
       " 'resumes\\\\resume4.docx',\n",
       " 'resumes\\\\resume4.pdf',\n",
       " 'resumes\\\\resume5.pdf',\n",
       " 'resumes\\\\resume6.pdf',\n",
       " 'resumes\\\\resume7.pdf']"
      ]
     },
     "execution_count": 4,
     "metadata": {},
     "output_type": "execute_result"
    }
   ],
   "source": [
    "rootdir = 'resumes'\n",
    "files = os.listdir(rootdir)\n",
    "file_names = []\n",
    "for file in os.listdir(rootdir):\n",
    "    file_names.append(os.path.join('resumes', file))\n",
    "file_names"
   ]
  },
  {
   "cell_type": "code",
   "execution_count": 5,
   "metadata": {},
   "outputs": [],
   "source": [
    "def open_pdf_file(file_name):\n",
    "    output = StringIO()\n",
    "    manager = PDFResourceManager()\n",
    "    converter = TextConverter(manager, output, laparams=LAParams())\n",
    "    interpreter = PDFPageInterpreter(manager, converter)\n",
    "\n",
    "    pagenums = set()\n",
    "    infile = open(file_name, 'rb')\n",
    "    for page in PDFPage.get_pages(infile, pagenums):\n",
    "        interpreter.process_page(page)\n",
    "    infile.close()\n",
    "    converter.close()\n",
    "    text = output.getvalue()\n",
    "    output.close()\n",
    "\n",
    "    result = []\n",
    "\n",
    "    for line in text.split('\\n'):\n",
    "        line2 = line.strip()\n",
    "        if line2 != '':\n",
    "            result.append(line2)\n",
    "    return (result)"
   ]
  },
  {
   "cell_type": "code",
   "execution_count": 6,
   "metadata": {},
   "outputs": [],
   "source": [
    "def open_docx_file(file_name):\n",
    "    temp = docx2txt.process(file_names[0])\n",
    "    text = [line.replace('\\t', ' ') for line in temp.split('\\n') if line]\n",
    "    text = [t for t in text if len(t) > 1]\n",
    "    return (text)"
   ]
  },
  {
   "cell_type": "code",
   "execution_count": 46,
   "metadata": {},
   "outputs": [],
   "source": [
    "def remove_punctuations(line):\n",
    "    return re.sub(r'(\\.|\\,)', '', line)\n",
    "\n",
    "def preprocess_document(document):\n",
    "    for index, line in enumerate(document):\n",
    "        line = line.lower()\n",
    "        line = remove_punctuations(line)\n",
    "        \n",
    "        line = line.split(' ')\n",
    "        while '' in line:\n",
    "            line.remove('')\n",
    "            \n",
    "        while ' '  in line:\n",
    "            line.remove(' ')\n",
    "            \n",
    "            \n",
    "        document[index] = ' '.join(line)\n",
    "    return (document)\n",
    "\n"
   ]
  },
  {
   "cell_type": "code",
   "execution_count": 36,
   "metadata": {},
   "outputs": [],
   "source": [
    "def get_email(document):\n",
    "    #Further optimization to be done.\n",
    "    emails = []\n",
    "    pattern = re.compile(r'\\w+@[a-zA-Z_]+?\\.[a-zA-Z]{2,3}')\n",
    "    for line in document:\n",
    "        matches = pattern.findall(line)\n",
    "        for mat in matches:\n",
    "            if len(mat) > 0:\n",
    "                emails.append(mat)\n",
    "    #print (emails)\n",
    "    return (emails)\n"
   ]
  },
  {
   "cell_type": "code",
   "execution_count": 37,
   "metadata": {},
   "outputs": [],
   "source": [
    "def get_phone_no(document):\n",
    "    #This function has to be further modified better and accurate results.\n",
    "    #Possible phone number formats - Including +91 or just with the numbers.\n",
    "    \n",
    "    mob_num_regex = r'''(\\d{3}[-\\.\\s]??\\d{3}[-\\.\\s]??\\d{4}|\\(\\d{3}\\)\n",
    "                        [-\\.\\s]*\\d{3}[-\\.\\s]??\\d{4}|\\d{5}[-\\.\\s]??\\d{4})'''\n",
    "    pattern = re.compile(mob_num_regex)\n",
    "    matches = []\n",
    "    for line in document:\n",
    "        match = pattern.findall(line)\n",
    "        for mat in match:\n",
    "            if len(mat) > 9:\n",
    "                matches.append(mat)\n",
    "\n",
    "    return (matches)\n",
    "\n"
   ]
  },
  {
   "cell_type": "code",
   "execution_count": 38,
   "metadata": {},
   "outputs": [],
   "source": [
    "def get_education(document):\n",
    "    education_terms = []\n",
    "    with open('education.txt', 'r') as file:\n",
    "        education_terms = file.readlines()\n",
    "    \n",
    "    education_terms = [term.strip('\\n') for term in education_terms]\n",
    "    education = []\n",
    "    for line in document:\n",
    "        for word in line.split(' '):\n",
    "            if len(word) > 2 and word in education_terms:\n",
    "                if line not in education:\n",
    "                    education.append(line)\n",
    "    #print (education)\n",
    "    return (education)"
   ]
  },
  {
   "cell_type": "code",
   "execution_count": 39,
   "metadata": {},
   "outputs": [],
   "source": [
    "def get_skills(document):\n",
    "    skill_terms = []\n",
    "    with open('valid_skills.txt', 'r') as file:\n",
    "        skill_terms = file.readlines()\n",
    "    \n",
    "    skill_terms = [term.strip('\\n') for term in skill_terms]\n",
    "    skills = []\n",
    "    \n",
    "    for line in document:\n",
    "        words = line.split(' ')\n",
    "        \n",
    "        for word in words:\n",
    "            if word in skill_terms:\n",
    "                if word not in skills:\n",
    "                    skills.append(word)\n",
    "                    \n",
    "        word_pairs = []\n",
    "        for i in zip(words[:-1], words[1:]):\n",
    "            word_pairs.append(i[0] + ' ' + i[1])   #This is to find skills like 'data science' i.e skills containint two words.    return (skills)\n",
    "            \n",
    "        for pair in word_pairs:\n",
    "            if pair in skill_terms:\n",
    "                if pair not in skills:\n",
    "                    skills.append(pair)\n",
    "                    \n",
    "    return (skills)"
   ]
  },
  {
   "cell_type": "markdown",
   "metadata": {},
   "source": [
    "Common forms of experience in resume:\n",
    "        \n",
    "        Experience followed by the keyword 'experience'\n",
    "        \n",
    "        Projects followed by the keyword 'project'\n",
    "        \n",
    "        Dated of the form 'Jan 2019 - Feb 2019'\n",
    "        \n",
    "        Dates of the from '05/2019 to 06/2019'"
   ]
  },
  {
   "cell_type": "code",
   "execution_count": 40,
   "metadata": {},
   "outputs": [],
   "source": [
    "def get_experience(document):\n",
    "    pattern1 = re.compile(r'(jan(uary)?|feb(ruary)?|mar(ch)?|apr(il)?|may|jun(e)?|jul(y)?|aug(ust)?|sep(tember)?|oct(ober)?|nov(ember)?|dec(ember)?)(\\s|\\S)(\\d{2,4}).*(jan(uary)?|feb(ruary)?|mar(ch)?|apr(il)?|may|jun(e)?|jul(y)?|aug(ust)?|sep(tember)?|oct(ober)?|nov(ember)?|dec(ember)?)(\\s|\\S)(\\d{2,4})')\n",
    "    pattern2 = re.compile(r'(\\d{2}(.|..)\\d{4}).{1,4}(\\d{2}(.|..)\\d{4})')\n",
    "    pattern3 = re.compile(r'(\\d{2}(.|..)\\d{4}).{1,4}(present)')\n",
    "    pattern4 = re.compile(r'(jan(uary)?|feb(ruary)?|mar(ch)?|apr(il)?|may|jun(e)?|jul(y)?|aug(ust)?|sep(tember)?|oct(ober)?|nov(ember)?|dec(ember)?)(\\s|\\S)(\\d{2,4}).*(present)')\n",
    "    patterns = [pattern1, pattern2, pattern3, pattern4]\n",
    "    experience = []\n",
    "    for index, line in enumerate(document):\n",
    "        for pattern in patterns:\n",
    "            exp = pattern.findall(line)\n",
    "            if len(exp) > 0:\n",
    "                experience.append(document[index:index+4])\n",
    "                \n",
    "    return (experience)\n",
    "    "
   ]
  },
  {
   "cell_type": "code",
   "execution_count": 63,
   "metadata": {},
   "outputs": [],
   "source": [
    "email_ids = []\n",
    "phone_nos = []\n",
    "education_1 = []\n",
    "education_2 = []\n",
    "skills_1 = []\n",
    "skills_2 = []\n",
    "experience_1 = []\n",
    "experience_2 = []\n",
    "\n",
    "for file_name in file_names:\n",
    "    if file_name.endswith('.pdf'):\n",
    "        document = open_pdf_file(file_name)\n",
    "    elif file_name.endswith('.docx'):\n",
    "        document = open_docx_file(file_name)\n",
    "    \n",
    "    \n",
    "    email = get_email(document)\n",
    "    phone_no = get_phone_no(document)\n",
    "    document = preprocess_document(document)\n",
    "    #print ('\\n\\n')\n",
    "    #print (file_name)\n",
    "    #print ('Email is {} phone number is {}'.format(email, phone_no))\n",
    "    if len(email_ids) > 0:\n",
    "        email_ids.append(email[0])\n",
    "    else:\n",
    "        email_ids.append('')\n",
    "        \n",
    "    if len(phone_no) > 0:\n",
    "        phone_nos.append(phone_no[0])\n",
    "    else:\n",
    "        phone_nos.append('')\n",
    "    \n",
    "    education = get_education(document)\n",
    "    #print ('Education ', get_education(document))\n",
    "    if len(education) > 1:\n",
    "        education_1.append(education[0])\n",
    "        education_2.append(education[1])\n",
    "    elif len(education) == 1:\n",
    "        education_1.append(education[0])\n",
    "        education_2.append('')\n",
    "    elif len(education) == 0:\n",
    "        education_1.append('')\n",
    "        education_2.append('')\n",
    "        \n",
    "    skills = get_skills(document)\n",
    "    #print ('Skills ', skills)\n",
    "    \n",
    "    if len(skills) > 1:\n",
    "        skills_1.append(skills[0])\n",
    "        skills_2.append(skills[1])\n",
    "    elif len(skills) == 1:\n",
    "        skills_1.append(skills[0])\n",
    "        skills_2.append('')\n",
    "    elif len(skills) == 0:\n",
    "        skills_1.append('')\n",
    "        skills_2.append('')\n",
    "        \n",
    "    experience = get_experience(document)\n",
    "    #print ('Experience ', get_experience(document))\n",
    "    if len(experience) > 1:\n",
    "        experience_1.append(experience[0])\n",
    "        experience_2.append(experience[1])\n",
    "    elif len(experience) == 1:\n",
    "        experience_1.append(experience[0])\n",
    "        experience_2.append('')\n",
    "    elif len(experience) == 0:\n",
    "        experience_1.append('')\n",
    "        experience_2.append('')    "
   ]
  },
  {
   "cell_type": "markdown",
   "metadata": {},
   "source": [
    "### To Do\n",
    "Make the extracted data in a presentable format. Like to an excel file."
   ]
  },
  {
   "cell_type": "code",
   "execution_count": 66,
   "metadata": {},
   "outputs": [],
   "source": [
    "import pandas as pd\n",
    "df = pd.DataFrame({'email id':email_ids, 'phone nos':phone_nos, 'education 1':education_1, 'education 2':education_2, 'skills 1':skills_1, \n",
    "              'skills 2':skills_2, 'experience 1':experience_1, 'experiece 2':experience_2})"
   ]
  },
  {
   "cell_type": "code",
   "execution_count": 67,
   "metadata": {},
   "outputs": [],
   "source": [
    "df.to_excel('extracted_data.xlsx')"
   ]
  },
  {
   "cell_type": "code",
   "execution_count": null,
   "metadata": {},
   "outputs": [],
   "source": []
  }
 ],
 "metadata": {
  "kernelspec": {
   "display_name": "Python 3",
   "language": "python",
   "name": "python3"
  },
  "language_info": {
   "codemirror_mode": {
    "name": "ipython",
    "version": 3
   },
   "file_extension": ".py",
   "mimetype": "text/x-python",
   "name": "python",
   "nbconvert_exporter": "python",
   "pygments_lexer": "ipython3",
   "version": "3.6.7"
  }
 },
 "nbformat": 4,
 "nbformat_minor": 2
}
